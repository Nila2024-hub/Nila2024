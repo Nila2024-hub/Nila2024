{
 "cells": [
  {
   "cell_type": "markdown",
   "id": "5e6e7966-5329-4349-89ef-7ccf7bc3b96a",
   "metadata": {},
   "source": [
    "(1) 숙제 15/03/20024\n",
    "\n",
    "이름:닐라\n",
    "\n",
    "학번:20244906\n"
   ]
  },
  {
   "cell_type": "markdown",
   "id": "bbcd097d-2ab7-42cc-94ff-53dc52312dff",
   "metadata": {},
   "source": [
    "1.1\n",
    "   Five important points:\n",
    "   \n",
    "   \n",
    "   1.What is python?\n",
    "    \n",
    "    -Python is one of the easiest programming language and its known for it's simple syntax.To step into the computer progaramming language world such as python,c,c++,java etc. python is the best way to start as a beginner. \n",
    "    \n",
    "    2.How to learn Python by using Anoconda Powershell Promt in two different Integrated Development Environment(IDE)\n",
    "              a.IDLE(Integrated Development and Learning Environment)\n",
    "              b.Jupyter Notebook\n",
    "    \n",
    "    3.The importance of saving a file in the Python IDLE or Jupyter notebook before run the code.\n",
    "      -file>new file>select notebook>name the file(data_science.py)>enter the code>run\n",
    "    \n",
    "    4. Some of the programing characters\n",
    "      -string \n",
    "      -built in function # print()\n",
    "      -multi-line comments by using ##\n",
    "      _shape,forward,left,uper case,lower case\n",
    "    \n",
    "    5.How to create a triangle,circle and hexagon shaped turtle graphic \n",
    "     \n",
    "    "
   ]
  },
  {
   "cell_type": "markdown",
   "id": "b70f0d83-2045-44f1-8086-6d42d65c4c3f",
   "metadata": {},
   "source": [
    "Some of the code which I had learnt in the class "
   ]
  },
  {
   "cell_type": "code",
   "execution_count": 1,
   "id": "ebe30186-a5a1-4c18-81bc-bd676c627691",
   "metadata": {},
   "outputs": [
    {
     "name": "stdout",
     "output_type": "stream",
     "text": [
      "Hello Python\n"
     ]
    }
   ],
   "source": [
    "print('Hello Python')"
   ]
  },
  {
   "cell_type": "code",
   "execution_count": 3,
   "id": "89151751-a927-4dd5-acad-76412bac8bff",
   "metadata": {},
   "outputs": [
    {
     "name": "stdout",
     "output_type": "stream",
     "text": [
      "5\n"
     ]
    }
   ],
   "source": [
    "print(2+3)"
   ]
  },
  {
   "cell_type": "code",
   "execution_count": 4,
   "id": "4e492604-0125-424a-b540-14ba87cebd0b",
   "metadata": {},
   "outputs": [
    {
     "name": "stdout",
     "output_type": "stream",
     "text": [
      "4973490\n"
     ]
    }
   ],
   "source": [
    "print(768 * 6476 -78)"
   ]
  },
  {
   "cell_type": "code",
   "execution_count": 6,
   "id": "d04659be-ac83-44e0-b6df-bed457face9c",
   "metadata": {},
   "outputs": [
    {
     "name": "stdout",
     "output_type": "stream",
     "text": [
      "5024.0\n"
     ]
    }
   ],
   "source": [
    "r = 40\n",
    "arae = 3.14 * r * r\n",
    "print (arae)"
   ]
  },
  {
   "cell_type": "code",
   "execution_count": 9,
   "id": "9d0c241d-de97-4a91-bb0b-eb045b5893d8",
   "metadata": {},
   "outputs": [
    {
     "name": "stdout",
     "output_type": "stream",
     "text": [
      "patatoes are tasty\n"
     ]
    }
   ],
   "source": [
    "print('patatoes' + ' are tasty') "
   ]
  },
  {
   "cell_type": "code",
   "execution_count": 11,
   "id": "85befbfc-e645-479a-a1c1-b5a9365d2881",
   "metadata": {},
   "outputs": [
    {
     "name": "stdout",
     "output_type": "stream",
     "text": [
      "patatoes patatoes patatoes \n"
     ]
    }
   ],
   "source": [
    "print('patatoes ' * 3)"
   ]
  },
  {
   "cell_type": "markdown",
   "id": "cee11d33-93a0-42dd-980e-c48e9c959637",
   "metadata": {},
   "source": [
    " Triangle Turtle Graphic"
   ]
  },
  {
   "cell_type": "code",
   "execution_count": 14,
   "id": "0280e6fb-1563-423b-ba9d-33ee8eb13e4b",
   "metadata": {},
   "outputs": [],
   "source": [
    "import turtle\n",
    "t = turtle.Turtle()\n",
    "t.shape('turtle')\n",
    "t.forward(100)\n",
    "t.left(120)\n",
    "t.forward(100)\n",
    "t.left(120)\n",
    "t.forward(100)"
   ]
  },
  {
   "cell_type": "code",
   "execution_count": 18,
   "id": "76a308d8-e3c2-44bd-bc22-27d4832810de",
   "metadata": {},
   "outputs": [],
   "source": [
    "import turtle\n",
    "t = turtle.Turtle()\n",
    "t.shape('turtle')\n",
    "t.forward(50)\n",
    "t.left(60)\n",
    "t.forward(50)\n",
    "t.left(60)\n",
    "t.forward(50)\n",
    "t.left(60)\n",
    "t.forward(50)\n",
    "t.left(60)\n",
    "t.forward(50)\n",
    "t.left(60)\n",
    "t.forward(50)\n",
    "\n"
   ]
  },
  {
   "cell_type": "code",
   "execution_count": null,
   "id": "4281e413-5958-4531-a5c5-817329603b03",
   "metadata": {},
   "outputs": [],
   "source": []
  }
 ],
 "metadata": {
  "kernelspec": {
   "display_name": "Python 3 (ipykernel)",
   "language": "python",
   "name": "python3"
  },
  "language_info": {
   "codemirror_mode": {
    "name": "ipython",
    "version": 3
   },
   "file_extension": ".py",
   "mimetype": "text/x-python",
   "name": "python",
   "nbconvert_exporter": "python",
   "pygments_lexer": "ipython3",
   "version": "3.11.7"
  }
 },
 "nbformat": 4,
 "nbformat_minor": 5
}
