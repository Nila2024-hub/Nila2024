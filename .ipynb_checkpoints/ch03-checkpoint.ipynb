{
 "cells": [
  {
   "cell_type": "code",
   "execution_count": 1,
   "id": "05e6f4b6-4b71-4b97-91a5-0bbcdcdf0ed0",
   "metadata": {},
   "outputs": [
    {
     "name": "stdout",
     "output_type": "stream",
     "text": [
      "a    n     a** n\n",
      "2    2    4\n",
      "3    2    9\n",
      "4    2    16\n",
      "5    2    25\n",
      "6    2    36\n"
     ]
    }
   ],
   "source": [
    "print('a    n     a** n')\n",
    "for i in range(2,7):\n",
    "    print(i, '  ', 2,'  ', i** 2)"
   ]
  },
  {
   "cell_type": "code",
   "execution_count": 2,
   "id": "beeee7c0-348c-4b6f-9294-9db021a80ddc",
   "metadata": {},
   "outputs": [
    {
     "name": "stdout",
     "output_type": "stream",
     "text": [
      "a    n     a** n\n",
      "2    2    4\n",
      "3    2    9\n",
      "4    2    16\n",
      "5    2    25\n",
      "6    2    36\n"
     ]
    }
   ],
   "source": [
    "print('a    n     a** n')\n",
    "a,n = 2,2\n",
    "for a in range(2,7):\n",
    "    print(a, '  ', 2,'  ', a** 2)"
   ]
  },
  {
   "cell_type": "code",
   "execution_count": 5,
   "id": "6037abe0-d20c-4cd3-a4b0-39e38c39a664",
   "metadata": {},
   "outputs": [
    {
     "name": "stdout",
     "output_type": "stream",
     "text": [
      "2 4 8 16 32 64 128 256 512 1024 "
     ]
    }
   ],
   "source": [
    "for i in range(10):\n",
    "    print( 2 << i, end =' ')\n"
   ]
  },
  {
   "cell_type": "code",
   "execution_count": 7,
   "id": "bdfd52d4-69d2-4b80-a7d2-adbbd35b00c5",
   "metadata": {},
   "outputs": [
    {
     "ename": "IndentationError",
     "evalue": "expected an indented block after 'if' statement on line 3 (3034465908.py, line 4)",
     "output_type": "error",
     "traceback": [
      "\u001b[1;36m  Cell \u001b[1;32mIn[7], line 4\u001b[1;36m\u001b[0m\n\u001b[1;33m    print(' n is greater than 100?',True)\u001b[0m\n\u001b[1;37m    ^\u001b[0m\n\u001b[1;31mIndentationError\u001b[0m\u001b[1;31m:\u001b[0m expected an indented block after 'if' statement on line 3\n"
     ]
    }
   ],
   "source": [
    "n = 120\n",
    "if n> 0 and n< 100:\n",
    "    if n % 2 == 0:\n",
    "    print(' n is greater than 100?',True)\n",
    "    else:\n",
    "    print('n is not greater than 100?'False)\n",
    "\n",
    " "
   ]
  },
  {
   "cell_type": "markdown",
   "id": "40688306-cc28-4155-8f47-389591cb3899",
   "metadata": {},
   "source": [
    "### 3.5"
   ]
  },
  {
   "cell_type": "code",
   "execution_count": 8,
   "id": "5dfe59af-49a2-4163-905a-9e113be2129c",
   "metadata": {},
   "outputs": [
    {
     "data": {
      "text/plain": [
       "'0b100'"
      ]
     },
     "execution_count": 8,
     "metadata": {},
     "output_type": "execute_result"
    }
   ],
   "source": [
    "bin(5&6)"
   ]
  },
  {
   "cell_type": "code",
   "execution_count": 10,
   "id": "2fb97357-51bd-467a-b651-9b99564544ac",
   "metadata": {},
   "outputs": [
    {
     "data": {
      "text/plain": [
       "'0b111'"
      ]
     },
     "execution_count": 10,
     "metadata": {},
     "output_type": "execute_result"
    }
   ],
   "source": [
    "bin(5 | 6)"
   ]
  },
  {
   "cell_type": "markdown",
   "id": "d3822d86-40d6-4a26-805c-c5b3b32a05e6",
   "metadata": {},
   "source": [
    "### 3.6"
   ]
  },
  {
   "cell_type": "code",
   "execution_count": 11,
   "id": "d94f97f8-11c9-4632-ab20-4acf15d7e890",
   "metadata": {},
   "outputs": [
    {
     "data": {
      "text/plain": [
       "(40, 2)"
      ]
     },
     "execution_count": 11,
     "metadata": {},
     "output_type": "execute_result"
    }
   ],
   "source": [
    "2002 // 50,202 % 50"
   ]
  },
  {
   "cell_type": "markdown",
   "id": "a9b07b51-24c2-4d61-bced-3d25e980e615",
   "metadata": {},
   "source": [
    "### 3.7"
   ]
  },
  {
   "cell_type": "code",
   "execution_count": 15,
   "id": "da80a2fb-e4c9-4b27-a6fe-77a9875cad16",
   "metadata": {},
   "outputs": [
    {
     "data": {
      "text/plain": [
       "(3, 4, 9)"
      ]
     },
     "execution_count": 15,
     "metadata": {},
     "output_type": "execute_result"
    }
   ],
   "source": [
    "h, t, o =349 // 100, (349 % 100) // 10, 349 % 10\n",
    "h,t,o"
   ]
  },
  {
   "cell_type": "markdown",
   "id": "4060aac8-6afa-4afb-86cf-a82ff7fa2342",
   "metadata": {},
   "source": [
    "### 3.8"
   ]
  },
  {
   "cell_type": "code",
   "execution_count": 18,
   "id": "23c74401-726b-4ca4-976d-712576710cb8",
   "metadata": {},
   "outputs": [
    {
     "name": "stdin",
     "output_type": "stream",
     "text": [
      "put your number: 349\n"
     ]
    },
    {
     "name": "stdout",
     "output_type": "stream",
     "text": [
      "9\n",
      "4\n",
      "3\n"
     ]
    }
   ],
   "source": [
    "num = int(input('put your number:'))\n",
    "h, t, o =349 // 100, (349 % 100) // 10, 349 % 10          \n",
    "print(o)\n",
    "print(t)\n",
    "print(h)"
   ]
  },
  {
   "cell_type": "code",
   "execution_count": 20,
   "id": "99730efc-0403-42ea-a61c-3b36cc465dce",
   "metadata": {},
   "outputs": [
    {
     "data": {
      "text/plain": [
       "943"
      ]
     },
     "execution_count": 20,
     "metadata": {},
     "output_type": "execute_result"
    }
   ],
   "source": [
    "o * 100 + t * 10 + h"
   ]
  },
  {
   "cell_type": "code",
   "execution_count": 21,
   "id": "4da1000d-c7d7-43df-9781-b87c67c62b33",
   "metadata": {},
   "outputs": [
    {
     "data": {
      "text/plain": [
       "'943'"
      ]
     },
     "execution_count": 21,
     "metadata": {},
     "output_type": "execute_result"
    }
   ],
   "source": [
    "'349'[::-1]"
   ]
  },
  {
   "cell_type": "markdown",
   "id": "2872b32c-406e-4e71-8b01-0096635699e7",
   "metadata": {},
   "source": [
    "### 3.9"
   ]
  },
  {
   "cell_type": "code",
   "execution_count": 24,
   "id": "dc85bc46-9264-4b09-87d5-b47a05d699f6",
   "metadata": {},
   "outputs": [
    {
     "ename": "SyntaxError",
     "evalue": "unmatched ')' (2075519014.py, line 3)",
     "output_type": "error",
     "traceback": [
      "\u001b[1;36m  Cell \u001b[1;32mIn[24], line 3\u001b[1;36m\u001b[0m\n\u001b[1;33m    m = int (total_sec % 3600) // 60)\u001b[0m\n\u001b[1;37m                                    ^\u001b[0m\n\u001b[1;31mSyntaxError\u001b[0m\u001b[1;31m:\u001b[0m unmatched ')'\n"
     ]
    }
   ],
   "source": [
    "total_sec = 12.334 * 3600 \n",
    "h = int (total_sec // 3600)\n",
    "m = int (total_sec % 3600) // 60)\n",
    "s = int(total_sec % 60)\n",
    "h, m , s, 46.5 * 12.342"
   ]
  },
  {
   "cell_type": "markdown",
   "id": "75169778-005d-4f6e-bebd-1ca03f10ff67",
   "metadata": {},
   "source": [
    "### 3.10"
   ]
  },
  {
   "cell_type": "code",
   "execution_count": 25,
   "id": "41f6507f-8bc5-4cc6-8888-67bb7b6c3898",
   "metadata": {},
   "outputs": [
    {
     "data": {
      "text/plain": [
       "2.0"
      ]
     },
     "execution_count": 25,
     "metadata": {},
     "output_type": "execute_result"
    }
   ],
   "source": [
    "import math\n",
    "math.fabs(5 - 7)"
   ]
  },
  {
   "cell_type": "code",
   "execution_count": 26,
   "id": "5733c8e3-0feb-4264-9773-b6772359d877",
   "metadata": {},
   "outputs": [
    {
     "data": {
      "text/plain": [
       "2"
      ]
     },
     "execution_count": 26,
     "metadata": {},
     "output_type": "execute_result"
    }
   ],
   "source": [
    "abs ( 5 - 7)"
   ]
  },
  {
   "cell_type": "markdown",
   "id": "0b061528-be99-429f-a0bb-1f9824131981",
   "metadata": {},
   "source": [
    "### 3.12"
   ]
  },
  {
   "cell_type": "code",
   "execution_count": 28,
   "id": "95bcf812-36d9-4fea-a307-9b02ade0b2cf",
   "metadata": {},
   "outputs": [
    {
     "data": {
      "text/plain": [
       "4712.38898038469"
      ]
     },
     "execution_count": 28,
     "metadata": {},
     "output_type": "execute_result"
    }
   ],
   "source": [
    "r = 10\n",
    "h = 15\n",
    "\n",
    "math.pi * r ** 2 * h\n"
   ]
  },
  {
   "cell_type": "markdown",
   "id": "550f4323-7fd5-4b70-a269-f0364b9e3145",
   "metadata": {},
   "source": [
    "### 4.1"
   ]
  },
  {
   "cell_type": "code",
   "execution_count": 29,
   "id": "e5b7ea7f-42bb-4257-94bf-6ad179d94aab",
   "metadata": {},
   "outputs": [
    {
     "name": "stdin",
     "output_type": "stream",
     "text": [
      "enter your problem q\n"
     ]
    },
    {
     "name": "stdout",
     "output_type": "stream",
     "text": [
      "q this is that\n"
     ]
    }
   ],
   "source": [
    "alph = input('enter your problem')\n",
    "\n",
    "\n",
    "if alph == 'a' or alph == 'e' or alph == 'o' or alph == 'u':\n",
    "    print(alph,'this is ')\n",
    "else:\n",
    "    print(alph,'this is that')"
   ]
  },
  {
   "cell_type": "markdown",
   "id": "dae53d9e-63ce-407c-aff5-2d0c5e5d39fc",
   "metadata": {},
   "source": [
    "alph = input('enter your problem')\n",
    "\n",
    "\n",
    "if alph in 'aeiou':\n",
    "    print(alph,'this is ')\n",
    "else:\n",
    "    print(alph,'this is that')"
   ]
  },
  {
   "cell_type": "markdown",
   "id": "6a763715-750a-47e9-8461-cd5d0e667a0e",
   "metadata": {},
   "source": [
    "## 4.2"
   ]
  },
  {
   "cell_type": "code",
   "execution_count": 32,
   "id": "5ba35859-fd52-4f42-8b08-608c3f2dabc1",
   "metadata": {},
   "outputs": [
    {
     "name": "stdin",
     "output_type": "stream",
     "text": [
      " enter your number: 9 4 122\n"
     ]
    }
   ],
   "source": [
    "a, b, c = input (' enter your number:').split()\n"
   ]
  },
  {
   "cell_type": "code",
   "execution_count": 33,
   "id": "afa637e5-9ab3-42e4-9276-313d5c45c743",
   "metadata": {},
   "outputs": [
    {
     "data": {
      "text/plain": [
       "'9'"
      ]
     },
     "execution_count": 33,
     "metadata": {},
     "output_type": "execute_result"
    }
   ],
   "source": [
    "a"
   ]
  },
  {
   "cell_type": "code",
   "execution_count": 34,
   "id": "406f11f7-ddb7-4b6f-9192-77a470e5419c",
   "metadata": {},
   "outputs": [
    {
     "data": {
      "text/plain": [
       "'4'"
      ]
     },
     "execution_count": 34,
     "metadata": {},
     "output_type": "execute_result"
    }
   ],
   "source": [
    "b"
   ]
  },
  {
   "cell_type": "code",
   "execution_count": 35,
   "id": "e0a7fe66-483c-45fd-afa3-7100d19b695c",
   "metadata": {},
   "outputs": [
    {
     "data": {
      "text/plain": [
       "'122'"
      ]
     },
     "execution_count": 35,
     "metadata": {},
     "output_type": "execute_result"
    }
   ],
   "source": [
    "c"
   ]
  },
  {
   "cell_type": "code",
   "execution_count": 36,
   "id": "efc38308-118a-418a-a195-b735df9a035c",
   "metadata": {},
   "outputs": [
    {
     "name": "stdin",
     "output_type": "stream",
     "text": [
      " enter your number: 9,122,4\n"
     ]
    }
   ],
   "source": [
    "a, b, c = input (' enter your number:').split(',')"
   ]
  },
  {
   "cell_type": "code",
   "execution_count": 39,
   "id": "c3d8177f-2f47-46d8-83ea-677716444325",
   "metadata": {},
   "outputs": [
    {
     "data": {
      "text/plain": [
       "(9, 122, 4)"
      ]
     },
     "execution_count": 39,
     "metadata": {},
     "output_type": "execute_result"
    }
   ],
   "source": [
    "a, b, c = int(a), int(b), int(c)\n",
    "a, b, c\n",
    "                             "
   ]
  },
  {
   "cell_type": "code",
   "execution_count": 40,
   "id": "78483c68-3a5b-4e73-8282-c9d1169c301a",
   "metadata": {},
   "outputs": [
    {
     "name": "stdin",
     "output_type": "stream",
     "text": [
      " enter your number: 9,122,4\n"
     ]
    }
   ],
   "source": [
    "a, b, c = map(int,input(' enter your number:').split(','))"
   ]
  },
  {
   "cell_type": "code",
   "execution_count": 47,
   "id": "fd171d3c-6225-45ce-b168-4e03a4bcbcf8",
   "metadata": {},
   "outputs": [
    {
     "name": "stdin",
     "output_type": "stream",
     "text": [
      " enter your number: (9, 122, 4)\n"
     ]
    },
    {
     "ename": "ValueError",
     "evalue": "invalid literal for int() with base 10: '(9,'",
     "output_type": "error",
     "traceback": [
      "\u001b[1;31m---------------------------------------------------------------------------\u001b[0m",
      "\u001b[1;31mValueError\u001b[0m                                Traceback (most recent call last)",
      "Cell \u001b[1;32mIn[47], line 1\u001b[0m\n\u001b[1;32m----> 1\u001b[0m a, b, c \u001b[38;5;241m=\u001b[39m \u001b[38;5;28mmap\u001b[39m(\u001b[38;5;28mint\u001b[39m,\u001b[38;5;28minput\u001b[39m (\u001b[38;5;124m'\u001b[39m\u001b[38;5;124m enter your number:\u001b[39m\u001b[38;5;124m'\u001b[39m)\u001b[38;5;241m.\u001b[39msplit())\n\u001b[0;32m      2\u001b[0m a, b, c\n",
      "\u001b[1;31mValueError\u001b[0m: invalid literal for int() with base 10: '(9,'"
     ]
    }
   ],
   "source": [
    "a, b, c = map(int,input (' enter your number:').split())\n",
    "a, b, c"
   ]
  },
  {
   "cell_type": "code",
   "execution_count": 46,
   "id": "406f80ce-a4e0-4660-8fcf-3eff2b7bdd3a",
   "metadata": {},
   "outputs": [
    {
     "data": {
      "text/plain": [
       "(122, 4, 9)"
      ]
     },
     "execution_count": 46,
     "metadata": {},
     "output_type": "execute_result"
    }
   ],
   "source": [
    "# bubble sorting\n",
    "if  a < b:\n",
    "    a, b = b, a\n",
    "if a < c:\n",
    "    a, c = c, a\n",
    "if b > c:\n",
    "    b, c = c,b\n",
    "a, b, c\n"
   ]
  },
  {
   "cell_type": "markdown",
   "id": "ad63ec3a-b768-4641-a9a2-50532f40c7fc",
   "metadata": {},
   "source": [
    "## 4.3"
   ]
  },
  {
   "cell_type": "code",
   "execution_count": 53,
   "id": "7d2541ed-bf2d-4d76-abc3-c6cbf7c22333",
   "metadata": {},
   "outputs": [
    {
     "name": "stdout",
     "output_type": "stream",
     "text": [
      "Youth\n"
     ]
    }
   ],
   "source": [
    "age = 15\n",
    "\n",
    "if age >= 20:\n",
    "    print('Adult')\n",
    "elif  age >= 10:\n",
    "    print('Youth')\n",
    "else:\n",
    "   print('Kid')\n",
    "    "
   ]
  },
  {
   "cell_type": "markdown",
   "id": "11221944-df3d-4476-b4ad-1ab37054f86d",
   "metadata": {},
   "source": [
    "## 4.4"
   ]
  },
  {
   "cell_type": "code",
   "execution_count": null,
   "id": "720a74d6-5d9e-47f8-9958-6358c86fd831",
   "metadata": {},
   "outputs": [],
   "source": []
  },
  {
   "cell_type": "markdown",
   "id": "49fe9409-1c7c-4b43-ae66-d15c705f4e1e",
   "metadata": {},
   "source": [
    "## 4.5"
   ]
  },
  {
   "cell_type": "code",
   "execution_count": 55,
   "id": "8e01d546-6249-485c-9a0d-8c0bc73a1184",
   "metadata": {},
   "outputs": [
    {
     "name": "stdin",
     "output_type": "stream",
     "text": [
      "lotto number: 1 2 9\n"
     ]
    },
    {
     "data": {
      "text/plain": [
       "(1, 2, 9)"
      ]
     },
     "execution_count": 55,
     "metadata": {},
     "output_type": "execute_result"
    }
   ],
   "source": [
    "n1, n2, n3 = 2, 3, 9\n",
    "\n",
    "m1, m2, m3 = map(int, input('lotto number:').split())\n",
    "m1, m2, m3"
   ]
  },
  {
   "cell_type": "code",
   "execution_count": 56,
   "id": "bf1e7479-48da-4095-a28c-c8eb7bc34d59",
   "metadata": {},
   "outputs": [
    {
     "ename": "NameError",
     "evalue": "name 'ml' is not defined",
     "output_type": "error",
     "traceback": [
      "\u001b[1;31m---------------------------------------------------------------------------\u001b[0m",
      "\u001b[1;31mNameError\u001b[0m                                 Traceback (most recent call last)",
      "Cell \u001b[1;32mIn[56], line 2\u001b[0m\n\u001b[0;32m      1\u001b[0m cnt \u001b[38;5;241m=\u001b[39m \u001b[38;5;241m0\u001b[39m \n\u001b[1;32m----> 2\u001b[0m \u001b[38;5;28;01mif\u001b[39;00m ml \u001b[38;5;129;01min\u001b[39;00m [n1, n2, n3]:\n\u001b[0;32m      3\u001b[0m     cnt \u001b[38;5;241m+\u001b[39m\u001b[38;5;241m=\u001b[39m \u001b[38;5;241m1\u001b[39m\n\u001b[0;32m      4\u001b[0m \u001b[38;5;28;01mif\u001b[39;00m ml \u001b[38;5;129;01min\u001b[39;00m [n1, n2, n3]:\n",
      "\u001b[1;31mNameError\u001b[0m: name 'ml' is not defined"
     ]
    }
   ],
   "source": [
    "cnt = 0 \n",
    "if ml in [n1, n2, n3]:\n",
    "    cnt += 1\n",
    "if m2 in [n1, n2, n3]:\n",
    "    cnt += 1\n",
    "if m3 in [n1, n2, n3]:\n",
    "    cnt += 1\n",
    "if cnt == 3:\n",
    "    print( '1n')\n"
   ]
  },
  {
   "cell_type": "code",
   "execution_count": null,
   "id": "b41100f3-099e-435d-b345-f3fb3639fb9f",
   "metadata": {},
   "outputs": [],
   "source": [
    "cnt = 0\n",
    "for lot in [m1, m2, m3]:\n",
    "    if lot in [n1, n2, n3]:\n",
    "        cnt += 1"
   ]
  },
  {
   "cell_type": "markdown",
   "id": "3ecde482-c1c4-4af8-bbfb-7557373a3fce",
   "metadata": {},
   "source": [
    "## 4.6"
   ]
  },
  {
   "cell_type": "code",
   "execution_count": null,
   "id": "c7626ccd-d407-481a-8c89-49d6608b4fe4",
   "metadata": {},
   "outputs": [],
   "source": [
    "print(''"
   ]
  },
  {
   "cell_type": "markdown",
   "id": "6ab8603b-0caa-4463-afaf-fb5047e3ee49",
   "metadata": {},
   "source": [
    "## 4.7"
   ]
  },
  {
   "cell_type": "code",
   "execution_count": null,
   "id": "c1141946-a04c-459a-9d6d-8c63d1ae1cfe",
   "metadata": {},
   "outputs": [],
   "source": [
    "import random\n",
    "n1, n2 = random.randint( 1,100), random.randint(1,100)\n",
    "ans = n1 + n2\n",
    "your = int( input("
   ]
  },
  {
   "cell_type": "markdown",
   "id": "15bcaa19-cd6f-4a20-be51-5b0c64c574a4",
   "metadata": {},
   "source": [
    "## 4.8"
   ]
  },
  {
   "cell_type": "code",
   "execution_count": null,
   "id": "69dd14e5-0805-4f8a-95a5-a6d7075ecb0f",
   "metadata": {},
   "outputs": [],
   "source": [
    "n1, n2 =map(in"
   ]
  },
  {
   "cell_type": "code",
   "execution_count": null,
   "id": "1e5aac8a-da1a-43cf-ad69-4f66e58ef497",
   "metadata": {},
   "outputs": [],
   "source": []
  }
 ],
 "metadata": {
  "kernelspec": {
   "display_name": "Python 3 (ipykernel)",
   "language": "python",
   "name": "python3"
  },
  "language_info": {
   "codemirror_mode": {
    "name": "ipython",
    "version": 3
   },
   "file_extension": ".py",
   "mimetype": "text/x-python",
   "name": "python",
   "nbconvert_exporter": "python",
   "pygments_lexer": "ipython3",
   "version": "3.11.7"
  }
 },
 "nbformat": 4,
 "nbformat_minor": 5
}
