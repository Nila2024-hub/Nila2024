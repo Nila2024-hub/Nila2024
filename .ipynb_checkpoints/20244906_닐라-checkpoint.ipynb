{
 "cells": [
  {
   "cell_type": "markdown",
   "id": "5e6e7966-5329-4349-89ef-7ccf7bc3b96a",
   "metadata": {},
   "source": [
    "(1) 숙제 15/03/20024\n",
    "\n",
    "이름:닐라\n",
    "\n",
    "학번:20244906\n"
   ]
  },
  {
   "cell_type": "markdown",
   "id": "bbcd097d-2ab7-42cc-94ff-53dc52312dff",
   "metadata": {},
   "source": [
    "1."
   ]
  },
  {
   "cell_type": "markdown",
   "id": "b70f0d83-2045-44f1-8086-6d42d65c4c3f",
   "metadata": {},
   "source": [
    "# "
   ]
  }
 ],
 "metadata": {
  "kernelspec": {
   "display_name": "Python 3 (ipykernel)",
   "language": "python",
   "name": "python3"
  },
  "language_info": {
   "codemirror_mode": {
    "name": "ipython",
    "version": 3
   },
   "file_extension": ".py",
   "mimetype": "text/x-python",
   "name": "python",
   "nbconvert_exporter": "python",
   "pygments_lexer": "ipython3",
   "version": "3.11.7"
  }
 },
 "nbformat": 4,
 "nbformat_minor": 5
}
