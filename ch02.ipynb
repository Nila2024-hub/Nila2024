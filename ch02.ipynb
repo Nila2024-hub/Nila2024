{
 "cells": [
  {
   "cell_type": "code",
   "execution_count": 3,
   "id": "c8e9ba90-06f2-4c9c-9601-160908c13869",
   "metadata": {},
   "outputs": [],
   "source": [
    "import turtle\n",
    "\n",
    "t = turtle. Turtle()\n",
    "t.shape ('turtle')\n",
    "\n",
    "\n",
    "\n",
    "\n",
    "\n",
    "\n"
   ]
  },
  {
   "cell_type": "code",
   "execution_count": 6,
   "id": "c7047161-7c8d-4748-a531-921fa8961ffe",
   "metadata": {},
   "outputs": [],
   "source": [
    "import turtle\n",
    "\n",
    "t = turtle. Turtle()\n",
    "t.shape ('turtle')\n",
    "\n",
    "radious = 100\n",
    "t.circle(radious)\n",
    "\n",
    "radious = 200\n",
    "t.circle(radious)\n"
   ]
  },
  {
   "cell_type": "code",
   "execution_count": null,
   "id": "4c10e4ab-5e64-4756-8f64-40831f20e46b",
   "metadata": {},
   "outputs": [],
   "source": []
  }
 ],
 "metadata": {
  "kernelspec": {
   "display_name": "Python 3 (ipykernel)",
   "language": "python",
   "name": "python3"
  },
  "language_info": {
   "codemirror_mode": {
    "name": "ipython",
    "version": 3
   },
   "file_extension": ".py",
   "mimetype": "text/x-python",
   "name": "python",
   "nbconvert_exporter": "python",
   "pygments_lexer": "ipython3",
   "version": "3.11.7"
  }
 },
 "nbformat": 4,
 "nbformat_minor": 5
}
